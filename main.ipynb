{
 "cells": [
  {
   "cell_type": "code",
   "execution_count": 1,
   "metadata": {},
   "outputs": [],
   "source": [
    "%load_ext autoreload\n",
    "%autoreload 2\n",
    "\n",
    "from dotenv import load_dotenv, find_dotenv\n",
    "load_dotenv(find_dotenv())\n",
    "\n",
    "import nest_asyncio\n",
    "nest_asyncio.apply()"
   ]
  },
  {
   "cell_type": "code",
   "execution_count": 2,
   "metadata": {},
   "outputs": [
    {
     "name": "stderr",
     "output_type": "stream",
     "text": [
      "/Users/Jaime/Desktop/Projects/book-assistant/.venv/lib/python3.12/site-packages/tqdm/auto.py:21: TqdmWarning: IProgress not found. Please update jupyter and ipywidgets. See https://ipywidgets.readthedocs.io/en/stable/user_install.html\n",
      "  from .autonotebook import tqdm as notebook_tqdm\n",
      "2025-02-22 17:26:21,221 - INFO - Pipeline to be run for book: ./books/church.pdf\n",
      "2025-02-22 17:26:21,222 - INFO - Extracting text from book: ./books/church.pdf\n",
      "2025-02-22 17:28:05,858 - INFO - Indexer initialized for book: './books/church.pdf' -> Number of pages: 288\n",
      "2025-02-22 17:28:06,124 - INFO - Book: './books/church.pdf'. Total number of pages with figures: 13\n",
      "2025-02-22 17:28:11,393 - INFO - Book: './books/church.pdf'. Offset frequency: {8: 8}\n",
      "2025-02-22 17:28:11,394 - INFO - Book: './books/church.pdf' has 12 chapters. Offset -> 8\n",
      "2025-02-22 17:28:23,023 - INFO - Indexer finished for book: ./books/church.pdf\n",
      "2025-02-22 17:28:34,455 - WARNING - Chapter too long. Summarizing the chunks -> 2\n",
      "2025-02-22 17:28:37,508 - WARNING - Chapter too long. Summarizing the chunks -> 2\n",
      "2025-02-22 17:28:48,277 - INFO - Number of summaries -> 12. Number of chapters: 12\n",
      "2025-02-22 17:28:48,279 - INFO - Summarizer and Quote Extraction finished for book: ./books/church.pdf\n",
      "2025-02-22 17:29:00,186 - INFO - MindMapCreator finished for book: ./books/church.pdf\n",
      "2025-02-22 17:29:00,187 - INFO - Pipeline for book: './books/church.pdf' finished. Final price: 0.50797285\n"
     ]
    }
   ],
   "source": [
    "from mindmap.pipelines import Pipeline, PipelineConfig, PipelineOutput\n",
    "from mindmap.agents import MindMapCreatorInfo\n",
    "\n",
    "\n",
    "pipeline_config = PipelineConfig()\n",
    "\n",
    "pipeline = Pipeline(pipeline_config=pipeline_config)\n",
    "\n",
    "pipeline_output: PipelineOutput = await pipeline.arun(path=\"./books/church.pdf\")\n",
    "mind_map_info: MindMapCreatorInfo = pipeline_output.mind_map"
   ]
  },
  {
   "cell_type": "code",
   "execution_count": 4,
   "metadata": {},
   "outputs": [
    {
     "data": {
      "text/plain": [
       "0.50797285"
      ]
     },
     "execution_count": 4,
     "metadata": {},
     "output_type": "execute_result"
    }
   ],
   "source": [
    "pipeline_output.price"
   ]
  }
 ],
 "metadata": {
  "kernelspec": {
   "display_name": ".venv",
   "language": "python",
   "name": "python3"
  },
  "language_info": {
   "codemirror_mode": {
    "name": "ipython",
    "version": 3
   },
   "file_extension": ".py",
   "mimetype": "text/x-python",
   "name": "python",
   "nbconvert_exporter": "python",
   "pygments_lexer": "ipython3",
   "version": "3.12.0"
  }
 },
 "nbformat": 4,
 "nbformat_minor": 2
}
