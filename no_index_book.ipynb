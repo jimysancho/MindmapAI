{
 "cells": [
  {
   "cell_type": "code",
   "execution_count": 1,
   "metadata": {},
   "outputs": [],
   "source": [
    "%load_ext autoreload\n",
    "%autoreload 2\n",
    "\n",
    "from dotenv import load_dotenv, find_dotenv\n",
    "load_dotenv(find_dotenv())\n",
    "\n",
    "import nest_asyncio\n",
    "nest_asyncio.apply()"
   ]
  },
  {
   "cell_type": "code",
   "execution_count": 19,
   "metadata": {},
   "outputs": [
    {
     "name": "stderr",
     "output_type": "stream",
     "text": [
      "2025-02-20 20:06:52,086 - INFO - Extracting text from book: ./books/rebelion_de_las_masas_index.pdf\n",
      "2025-02-20 20:08:07,723 - INFO - Indexer initialized for book: './books/rebelion_de_las_masas_index.pdf' -> Number of pages: 284\n"
     ]
    }
   ],
   "source": [
    "from mindmap.agents import Indexer, IndexerConfig, IndexerInfo\n",
    "\n",
    "index_config = IndexerConfig(\n",
    "    path=\"./books/rebelion_de_las_masas_index.pdf\"\n",
    ")\n",
    "\n",
    "indexer = Indexer(indexer_config=index_config)\n",
    "\n",
    "await indexer._initialize()"
   ]
  },
  {
   "cell_type": "code",
   "execution_count": 20,
   "metadata": {},
   "outputs": [
    {
     "name": "stderr",
     "output_type": "stream",
     "text": [
      "2025-02-20 20:09:42,496 - INFO - Book: './books/rebelion_de_las_masas_index.pdf'. Total number of pages with figures: 2\n",
      "2025-02-20 20:09:50,816 - INFO - Book: './books/rebelion_de_las_masas_index.pdf'. Offset frequency: {93: 1, -2: 15, -111: 1, -11: 1, -59: 1, -36: 1, -189: 1, -89: 1}\n",
      "2025-02-20 20:09:50,817 - INFO - Book: './books/rebelion_de_las_masas_index.pdf' has 23 chapters. Offset -> -2\n"
     ]
    }
   ],
   "source": [
    "indexer_info: IndexerInfo = await indexer.arun()"
   ]
  },
  {
   "cell_type": "code",
   "execution_count": 21,
   "metadata": {},
   "outputs": [
    {
     "data": {
      "text/plain": [
       "{'El hecho de las aglomeraciones': [8, 21],\n",
       " 'La subida del nivel histórico': [21, 34],\n",
       " 'La altura de los tiempos': [34, 48],\n",
       " 'El crecimiento de la vida': [48, 61],\n",
       " 'Un dato estadístico': [61, 71],\n",
       " 'Comienza la disección del hombre-masa': [71, 81],\n",
       " 'Vida noble y vida vulgar, o esfuerzo e inercia': [81, 92],\n",
       " 'Por qué las masas intervienen en todo, y por qué sólo intervienen violentamente': [92,\n",
       "  106],\n",
       " 'Primitivismo y técnica': [106, 120],\n",
       " 'Primitivismo e historia': [120, 133],\n",
       " \"La época del 'señorito satisfecho'\": [133, 148],\n",
       " \"La barbarie del 'especialismo'\": [148, 160],\n",
       " 'El mayor peligro, el Estado': [160, 175],\n",
       " '1': [175, 183],\n",
       " '2': [183, 191],\n",
       " '3': [191, 200],\n",
       " '4': [200, 209],\n",
       " '5': [209, 218],\n",
       " '6': [218, 227],\n",
       " '7': [227, 253],\n",
       " '8': [253, 264],\n",
       " '9': [264, 276],\n",
       " 'Se desemboca en la verdadera cuestión': [276]}"
      ]
     },
     "execution_count": 21,
     "metadata": {},
     "output_type": "execute_result"
    }
   ],
   "source": [
    "indexer_info.chapter_domain"
   ]
  },
  {
   "cell_type": "code",
   "execution_count": 22,
   "metadata": {},
   "outputs": [
    {
     "name": "stdout",
     "output_type": "stream",
     "text": [
      "El hecho de las aglomeraciones\n",
      "El hecho de las aglomeraciones\n",
      "Hay un hecho que, para bien o para mal, es el más importante en la vida pública europea de la hora presente. Este hecho es el advenimiento de las masas al pleno poderío social. Como las masas, por definición, no deben ni pueden dirigir su propia existencia, y menos regentar la sociedad, quiere decirse que Europa sufre ahora la más grave crisis que a pueblos, naciones, culturas, cabe padecer. Esta crisis ha sobrevenido más de una vez en la historia. Su fisonomía y sus consecuencias son conocidas. También se conoce su nombre. Se llama la rebelión de las masas.\n",
      "Para la inteligencia del formidable hecho conviene que se evite dar desde luego a las palabras 'rebelión', 'masas', 'poderío social', etc., un significado exclusiva o primariamente político. La vida pública no es sólo política, sino, a la par y aun antes, intelectual, moral, económica, religiosa; comprende los usos todos colectivos e incluye el modo de vestir y el modo de gozar.\n",
      "Tal vez la mejor maner\n",
      "====================================================================================================\n",
      "La subida del nivel histórico\n",
      "La subida del nivel histórico\n",
      "Éste es el hecho formidable de nuestro tiempo, descrito sin ocultar  la  brutalidad  de  su  apariencia.  Es,  además,  de  una  absoluta novedad en la historia de nuestra civilización. Jamás, en todo su desarrollo, ha acontecido nada parejo. Si hemos de hallar algo semejante, tendríamos que brincar fuera de nuestra historia y sumergirnos en un orbe, en un elemento vital, completamente distinto del nuestro; tendríamos que insinuarnos en el mundo antiguo y llegar a su hora de declinación. La historia del Imperio Romano es también la historia de la subversión, del imperio de las masas, que absorben y anulan a las minorías dirigentes y se colocan en su lugar. Entonces se produce también el fenómeno de la aglomeración, del lleno. Por eso, como ha observado muy bien Spengler, hubo que construir, al modo que ahora, enormes edificios. La época de las masas es la época de lo colosal.\n",
      "Vivimos bajo el brutal imperio de las masas. Perfectamente; ya hemos llamado dos \n",
      "====================================================================================================\n",
      "La altura de los tiempos\n",
      "La altura de los tiempos\n",
      "El imperio de las masas presenta, pues, una vertiente favorable en cuanto significa una subida de todo el nivel histórico, y revela que la vida media se mueve hoy en altura superior a la que ayer pisaba. Lo cual nos hace caer en la cuenta de que la vida puede tener altitudes diferentes, y que es una frase llena de sentido la que sin sentido suele repetirse cuando se habla de la altura de los tiempos. Conviene que nos detengamos en este punto, porque él nos proporciona manera de fijar uno de los caracteres más sorprendentes de nuestra época.\n",
      "Se dice, por ejemplo, que esta o la otra cosa no es propia de la altura de los tiempos. En efecto: no el tiempo abstracto de la cronología, que es todo él llano, sino el tiempo vital o que cada generación llama 'nuestro tiempo', tiene siempre cierta altitud, se eleva hoy sobre ayer, o se mantiene a la par, o cae por debajo. La imagen de caer, envainada en el vocablo decadencia, precede de esta intuición. Asimismo, cada cual \n",
      "====================================================================================================\n",
      "El crecimiento de la vida\n",
      "El crecimiento de la vida\n",
      "El imperio de las masas y el ascenso de nivel, la altitud del tiempo que él anuncia, no son, a su vez, más que síntomas de un hecho más completo y general. Este hecho es casi grotesco e increíble en su misma y simple evidencia. Es, sencillamente, que el  mundo, de repente, ha crecido, y con él y en él la vida. Por lo  pronto, ésta se ha mundializado efectivamente; quiero decir que el contenido de la vida en el hombre de tipo medio es hoy todo el planeta; que cada individuo vive habitualmente en todo el mundo. Hace poco más de un año, los sevillanos seguían hora por hora, en sus periódicos populares, lo que les estaba pasando a unos hombres junto al Polo, es decir, que sobre el fondo ardiente de la campiña bética pasaban témpanos a la deriva. Cada trozo de tierra no está ya recluido en su lugar geométrico, sino que para muchos efectos visuales actúa en los demás sitios del planeta. Según el principio físico de que las cosas están allí donde  actúan,  reconocere\n",
      "====================================================================================================\n",
      "Un dato estadístico\n",
      "Un dato estadístico\n",
      "Este ensayo quisiera vislumbrar el diagnóstico de nuestro tiempo, de nuestra vida actual. Va enunciada la primera parte de él, que puede resumirse así: nuestra vida, como repertorio de posibilidades, es magnífica, exuberante, superior a todas las históricamente conocidas. Mas por lo mismo que su formato es mayor, ha desbordado todos los cauces, los principios, las normas y los ideales legados por la tradición. Es más vida que todas las vidas, y por lo mismo más problemática. No puede orientarse en el pretérito. Tiene que inventar su propio destino.\n",
      "Pero ahora hay que completar el diagnóstico. La vida, que es,  ante  todo,  lo  que  podemos  ser,  vida  posible,  es  también,  y por lo mismo, decidir entre las posibilidades lo que en efecto vamos a ser. Circunstancia y decisión son los dos elementos radicales de que se compone la vida. La circunstancia -las posibilidades- es lo que de nuestra vida nos es dado e impuesto. Ello constituye lo que llamamos el mundo. La v\n",
      "====================================================================================================\n",
      "Comienza la disección del hombre-masa\n",
      "Comienza la disección del hombre-masa\n",
      "¿Cómo es este hombre-masa que domina hoy la vida publica? -la política y la no política-. ¿Por qué es como es?; quiero decir, ¿cómo se ha producido?\n",
      "Conviene  responder  conjuntamente  a  ambas  cuestiones, porque se prestan mutuo esclarecimiento. El hombre que ahora intenta ponerse al frente de la existencia europea es muy distinto del que dirigió al siglo XIX, pero fue producido y preparado en el siglo XIX. Cualquiera mente perspicaz de 1820, de 1850, de 1880, pudo, por un sencillo razonamiento a priori , prever la gravedad de la situación histórica actual. Y, en efecto, nada nuevo acontece que no haya sido previsto cien años hace. '¡Las masas avanzan!', decía, apocalíptico, Hegel. 'Sin un nuevo poder espiritual, nuestra época, que es una época revolucionaria, producirá una catástrofe', anunciaba Augusto Comte. '¡Veo subir la pleamar del nihilismo!', gritaba desde un risco de la Engadina el mostachudo Nietzsche. Es falso decir que la historia no \n",
      "====================================================================================================\n",
      "Vida noble y vida vulgar, o esfuerzo e inercia\n",
      "Vida noble y vida vulgar, o esfuerzo e inercia\n",
      "Por lo pronto somos aquello que nuestro mundo nos invita a ser, y las facciones fundamentales de nuestra alma son impresas en ella por el perfil del contorno como por un molde. Naturalmente, vivir no es más que tratar con el mundo. El cariz general que él nos presente será el cariz general de nuestra vida. Por eso insisto tanto en hacer notar que el mundo donde han nacido las masas actuales mostraba una fisonomía radicalmente nueva en la historia. Mientras en el pretérito vivir significaba para el hombre medio encontrar en derredor dificultades, peligros, escaseces, limitaciones de destino y dependencia, el mundo nuevo aparece como un ámbito de posibilidades prácticamente ilimitadas, seguro, donde no se depende de nadie. En torno a esta impresión primaria y permanente se va a formar cada alma contemporánea, como en torno a la opuesta se formaron las antiguas. Porque esta impresión fundamental se convierte en voz interior que murmura sin ce\n",
      "====================================================================================================\n",
      "Por qué las masas intervienen en todo, y por qué sólo intervienen violentamente\n",
      "Por qué las masas intervienen en todo, y por qué sólo intervienen violentamente\n",
      "Quedamos en que ha acontecido algo sobremanera paradójico, pero que en verdad era naturalísimo: de puro mostrarse abiertos mundo y vida al hombre mediocre, se le ha cerrado a éste el alma. Pues bien: yo sostengo que en esa obliteración de las almas medias consiste la rebeldía de las masas, en que a su vez consiste el gigantesco problema planteado hoy a la humanidad.\n",
      "Ya sé que muchos de los que me leen no piensan lo mismo que yo. También esto es naturalísimo y confirma el teorema. Pues aunque resulte en definitiva errónea mi opinión, siempre quedaría el hecho de que muchos de esos lectores discrepantes no han pensado cinco minutos sobre tan compleja materia. ¿Cómo van a pensar lo mismo que yo? Pero al creerse con derecho a tener una opinión sobre el asunto sin previo esfuerzo para forjársela, manifiestan su ejemplar pertenencia al modo absurdo de ser hombre que he llamado 'masa rebelde'. Eso es precisamente \n",
      "====================================================================================================\n",
      "Primitivismo y técnica\n",
      "Primitivismo y técnica\n",
      "Me importa  mucho  recordar  aquí  que  estamos  sumergidos  en el análisis de una situación -la del presente- sustancialmente equívoca. Por eso insinué al principio que todos los rasgos actuales, y en especial la rebelión de las masas, presentan doble vertiente. Cualquiera de ellos no sólo tolera, sino que reclama una doble interpretación, favorable y peyorativa. Y este equívoco no reside  en  nuestro  juicio,  sino  en  la  realidad  misma.  No  es  que pueda parecerme por un lado bien, por otro mal, sino que en sí misma la situación presente es potencia bifronte de triunfo o de muerte.\n",
      "No es cosa de lastrar este ensayo con toda una metafísica de la historia. Pero claro es que lo voy construyendo sobre el cimiento subterráneo de mis convicciones filosóficas expuestas o aludidas en otros lugares. No creo en la absoluta determinación de la historia. Al contrario, pienso que toda vida y, por lo tanto, la histórica, se compone de puros instantes, cada uno de los cu\n",
      "====================================================================================================\n",
      "Primitivismo e historia\n",
      "Primitivismo e historia\n",
      "La naturaleza está siempre ahí. Se sostiene a sí misma. En ella, en la selva, podemos impunemente ser salvajes. Podemos, inclusive, resolvernos a no dejar de serlo nunca, sin más riesgo que el advenimiento de otros seres que no lo sean. Pero, en principio, son posibles pueblos perennemente primitivos. Los hay; Breyssig los ha llamado 'los pueblos de la perpetua aurora', los que se han quedado en una alborada detenida, congelada, que no avanza hacia ningún mediodía.\n",
      "Esto pasa en el mundo que es sólo naturaleza. Pero no pasa en el mundo que es civilización, como el nuestro. La civilización no está ahí, no se sostiene a sí misma. Es artificio y requiere un artista  o  artesano.  Si  usted  quiere  aprovecharse  de  las  ventajas de la  civilización,  pero  no  se  preocupa  usted  de  sostener  la  civilización…, se ha fastidiado usted. En un dos por tres se queda usted sin civilización. ¡Un descuido, y cuando mira usted en derredor, todo se ha volatilizado! Como s\n",
      "====================================================================================================\n",
      "La época del 'señorito satisfecho'\n",
      "La época del 'señorito satisfecho'\n",
      "Resumen: el nuevo hecho social que aquí se analiza es este: la historia europea parece, por vez primera, entregada a la decisión del hombre vulgar como tal. O dicho en voz activa: el hombre vulgar, antes dirigido, ha resuelto gobernar el mundo. Esta resolución de adelantarse al primer plano social se ha producido en él, automáticamente, apenas llegó a madurar el nuevo tipo de hombre que él representa. Si atendiendo a los efectos de vida pública se estudia la estructura sicológica de este nuevo tipo de hombre-masa, se encuentra lo siguiente: lº, una impresión nativa y radical de que la vida es fácil, sobrada, sin limitaciones trágicas, por lo tanto cada individuo medio encuentra en sí una sensación de dominio y triunfo que, 2º, lo invita a afirmarse a sí mismo tal cual es, dar por bueno y completo su haber moral e intelectual. Este contentamiento consigo lo lleva a cerrarse para toda instancia exterior, a no escuchar, a no poner en tela de juicio sus o\n",
      "====================================================================================================\n",
      "La barbarie del 'especialismo'\n",
      "La barbarie del 'especialismo'\n",
      "La tesis era que la civilización del siglo XIX ha producido automáticamente  el  hombre-masa.  Conviene  no  cerrar  su  exposición general sin analizar, en un caso particular, la mecánica de esa producción. De esta suerte, al concretarse, la tesis gana en fuerza persuasiva.\n",
      "Esta civilización del siglo XIX -decía yo- puede resumirse en dos grandes dimensiones: democracia liberal y técnica. Tomemos ahora sólo la última. La técnica contemporánea nace de la copulación entre el capitalismo y la ciencia experimental. No toda técnica es científica. El que fabricó las hachas de sílex, en el periodo chelense, carecía de ciencia y, sin embargo, creó una técnica. China llegó a un alto grado de tecnicismo sin sospechar lo más mínimo la existencia de la física. Sólo la técnica moderna de Europa tiene una raíz científica, y de esa raíz le viene su carácter específico, la posibilidad de un ilimitado progreso. Las demás técnicas -mesopotámica, nilota, grieta, romana, or\n",
      "====================================================================================================\n",
      "El mayor peligro, el Estado\n",
      "El mayor peligro, el Estado\n",
      "En una buena ordenación de las cosas públicas, la masa es la que no actúa por sí misma. Tal es su misión. Ha venido al mundo para ser dirigida, influida, representada, organizada -hasta para dejar de ser masa o, por lo menos, aspirar a ello-. Pero no ha venido al mundo para hacer todo eso por sí. Necesita referir su vida a la instancia superior, constituida por las minorías excelentes. Discútase cuanto se quiera quiénes son los hombres excelentes, pero que sin ellos -sean unos o sean otros- la humanidad no existiría en lo que tiene de más esencial, es cosa sobre la cual conviene que no haya duda alguna, aunque lleve Europa todo un siglo metiendo la cabeza debajo del alón, al modo de los avestruces, para ver si consigue no ver tan radiante evidencia. Porque no se trata de una opinión fundada en hechos más o menos frecuentes y probables, sino en una ley de la 'física' social, mucho más inconmovible que las leyes de la física de Newton. El día que vuelva a impe\n",
      "====================================================================================================\n",
      "1\n",
      "1\n",
      "La sustancia o índole de una nueva época histórica es resultante  de  variaciones  internas  del  hombre  y  su  espíritu,  o  externas -formales y como mecánicas-. Entre estas últimas, la más importante, casi sin duda, es el desplazamiento del poder. Pero éste trae consigo un desplazamiento del espíritu.\n",
      "Por eso, al asomarnos a un tiempo con ánimo de comprenderlo, una de nuestras primeras preguntas debe ser esta: '¿Quién manda en el mundo a la sazón?'. Podrá ocurrir que a la sazón la humanidad esté dispersa en varios trozos sin comunicación entre sí, que forman mundos interiores e independientes. En tiempo de Milcíades, el mundo mediterráneo ignoraba la existencia del mundo extremooriental. En casos tales, tendríamos que referir nuestra pregunta: '¿Quién manda en el mundo?', a cada grupo de convivencia. Pero desde el siglo XVI ha entrado la humanidad toda en un proceso gigantesco de unificación que en nuestros días ha llegado a su término insuperable. Ya no hay trozo de humanidad qu\n",
      "====================================================================================================\n",
      "2\n",
      "2\n",
      "La pura verdad es que en el mundo pasa en todo instante y, por lo tanto, ahora, infinidad de cosas. La pretensión de decir qué es lo que ahora pasa en el mundo ha de entenderse, pues, como ironizándose a sí misma. Mas por lo mismo que es imposible  conocer directamente la plenitud de lo real, no tenemos más remedio que construir arbitrariamente una realidad, suponer que las cosas son de una cierta manera. Esto nos proporciona un esquema, es decir, un concepto o enrejado de conceptos. Con él, como al través de una cuadrícula, miramos luego la efectiva  realidad,  y  entonces,  sólo  entonces,  conseguimos una visión aproximada de ella. En esto consiste el método científico.  Más  aun:  en  esto  consiste  todo  uso  del  intelecto.  Cuando al ver llegar a nuestro amigo por la vereda del jardín decimos: 'Este es Pedro', cometemos deliberadamente, irónicamente, un error. Porque Pedro significa para nosotros un esquemático repertorio de modos de comportarse física y moralmente -lo que ll\n",
      "====================================================================================================\n",
      "3\n",
      "3\n",
      "El gitano se fue a confesar; pero el cura, precavido, comenzó por preguntarle si sabía los mandamientos de la ley de Dios. A lo que el gitano respondió: Misté, padre; yo loh iba a aprendé; pero he oido un runrún de que loh iban a quitá.\n",
      "¿No es esta la situación presente del mundo? Corre el runrún de que ya no rigen los mandamientos europeos y en vista de ello la gente -hombres y pueblos- aprovechan la ocasión para vivir sin imperativos. Porque existían sólo los europeos. No se trata de que -como otras veces ha acontecido- una germinación de normas nuevas desplace las antiguas y un fervor novísimo absorba en su fuego joven los viejos entusiasmos de menguante temperatura. Eso sería lo corriente. Es más: lo viejo resulta viejo no por propia senescencia, sino porque ya está ahí un principio nuevo que, sólo con ser nuevo, aventaja de pronto al preexistente. Si no tuviéramos hijos, no seríamos viejos o tardaríamos mucho más en serlo. Lo propio pasa con los artefactos. Un automóvil de hace \n",
      "====================================================================================================\n",
      "4\n",
      "4\n",
      "La función de mandar y obedecer es la decisiva en toda sociedad. Como ande turbia esta cuestión de quién manda y quién obedece, todo lo demás marchará impura y torpemente. Hasta la más íntima intimidad de cada individuo, salvas geniales excepciones, quedará perturbada y falsificada. Si el hombre fuese un ser solitario que accidentalmente se halla trabado en convivencia con otros,  acaso  permaneciese  intacto  de  tales  repercusiones,  originadas en los desplazamientos y crisis del imperar, del Poder. Pero como es social en su más elemental textura, queda trastornado en su índole privada por mutaciones que en rigor sólo afectan inmediatamente a la colectividad. De aquí que si se toma aparte un individuo y se lo analiza, cabe colegir, sin más datos, cómo anda en su país la conciencia de mando y obediencia.\n",
      "Fuera interesante y hasta útil someter a este examen el carácter individual del español medio. La operación sería, no obstante, enojosa y, aunque útil, deprimente; por eso la elude\n",
      "====================================================================================================\n",
      "5\n",
      "5\n",
      "Conviene que ahora retrocedamos al punto de partida de estos artículos: al hecho, tan curioso, de que en el mundo se hable estos años tanto sobre la decadencia de Europa. Ya es sorprendente el detalle de que esta decadencia no haya sido notada primeramente por los extraños, sino que el descubrimiento de ella se deba a los europeos mismos. Cuando nadie, fuera del viejo continente, pensaba en ello, ocurrió a algunos hombres de Alemania, de Inglaterra, de Francia, esta sugestiva idea: ¿No será que empezamos a decaer? La idea ha tenido buena prensa, y hoy todo el mundo habla de la decadencia europea como de una realidad inconcusa.\n",
      "Pero detened al que la enuncia con un leve gesto y preguntadle en qué fenómenos concretos y evidentes funda su diagnóstico. Al punto lo veréis hacer vagos ademanes y practicar esa agitación de brazos hacia la rotundidad del universo que es característica de todo náufrago. No sabe, en efecto, a qué agarrarse. La única cosa que sin grandes precisiones aparece cua\n",
      "====================================================================================================\n",
      "6\n",
      "6\n",
      "He contado en otro lugar la pasión y muerte del mundo grecorromano, y en cuanto a ciertos detalles, me remito a lo dicho allí. Pero ahora podemos tomar el asunto bajo otro aspecto.\n",
      "Griegos  y  latinos  aparecen  en  la  historia  alojados,  como abejas en su colmena, dentro de urbes, de polis. Éste es un hecho que en estas páginas necesitamos tomar como absoluto y de génesis misteriosa; un hecho de que hay que partir sin más; como el zoólogo parte del dato bruto e inexplicado de que el sphex vive solitario,  errabundo,  peregrino,  y  en  cambio  la  rubia  abeja  sólo existe en enjambre constructor de panales. El caso es que la excavación y la arqueología nos permiten ver algo de lo que había en el suelo de Atenas y en el de Roma antes de que Atenas y Roma existiesen. Pero el tránsito de esta prehistoria, puramente rural y sin carácter específico, al brote de la ciudad, fruta de nueva especie que da el suelo de ambas penínsulas, queda arcano: ni siquiera está claro el nexo étnico en\n",
      "====================================================================================================\n",
      "7\n",
      "7\n",
      "Cabezas claras, lo que se llama cabezas claras, no hubo probablemente en todo el mundo antiguo más que dos: Temístocles y César; dos políticos. La cosa es sorprendente, porque, en general, el político, incluso el famoso, es político precisamente porque es torpe. Hubo, sin duda, en Grecia y Roma, otros hombres que pensaron ideas claras sobre muchas cosas -filósofos, matemáticos,  naturalistas-; pero su claridad fue de orden científica, es decir, una claridad sobre cosas abstractas. Todas las cosas de que habla !a ciencia, sea ella la que quiera, son abstractas, y las cosas abstractas son siempre claras. De suerte que la claridad de la ciencia no está tanto en la cabeza de los que la hacen como en las cosas de que hablan. Lo esencialmente confuso, intrincado, es la realidad vital concreta, que es siempre única. El que sea capaz de orientarse con precisión en ella, el que vislumbre bajo el caos que presenta toda situación vital la anatomía secreta del instante, en suma, el que no se pie\n",
      "====================================================================================================\n",
      "8\n",
      "8\n",
      "'Tener glorias comunes en el pasado, una voluntad común en el presente; haber hecho juntos grandes cosas, querer hacer otras más: he aquí las condiciones esenciales para ser un pueblo… En el pasado, una herencia de glorias y remordimientos; en el porvenir, un mismo programa que realizar… La existencia de una nación es un plebiscito cotidiano'.\n",
      "Tal es la conocidísima sentencia de Renán. ¿Cómo se explica su excepcional fortuna? Sin duda, por la gracia de la coletilla. Esa idea de que la nación consiste en un plebiscito cotidiano opera sobre nosotros como una liberación. Sangre, lengua y pasado comunes son principios estáticos, fatales, rígidos, inertes: son prisiones. Si la nación consistiese en eso y en nada más, la nación sería una cosa situada a nuestra espalda, con lo cual no tendríamos nada que hacer. La nación sería algo que se es, pero no algo que se hace. Ni siquiera tendría sentido defenderla cuando alguien la ataca.\n",
      "Quiérase o no, la vida humana es constante ocupación con alg\n",
      "====================================================================================================\n",
      "9\n",
      "9\n",
      "Apenas las naciones de Occidente colmen su actual perfil, surge en torno de ellas y bajo ellas, como un fondo, Europa. Es esta la unidad de paisaje en que van a moverse desde el Renacimiento, y ese paisaje europeo son ellas mismas, que sin advertirlo empiezan ya a abstraer de su belicosa pluralidad. Francia, Inglaterra, España, Italia, Alemania pelean entre sí, forman ligas contrapuestas, las deshacen, las recomponen. Pero todo ello, guerra como paz, es convivir de igual a igual, lo que ni en paz ni en guerra pudo hacer nunca Roma con el celtíbero, el galo, el británico y el germano. La historia destacó en primer término las querellas, y en general la política, que es el terreno más tardío para la espiga de la unidad; pero mientras se batallaba en una gleba, en cien se comerciaba con el enemigo, se cambiaban ideas y formas de arte y artículos de la fe. Diríase que aquel fragor de batallas ha sido sólo un telón tras  el  cual  tanto  más  tenazmente  trabajaba  la  pacífica polipera d\n",
      "====================================================================================================\n",
      "Se desemboca en la verdadera cuestión\n",
      "Se desemboca en la verdadera cuestión\n",
      "Esta es la cuestión: Europa se ha quedado sin moral. No es que el hombre-masa menosprecie una anticuada en beneficio de otra emergente, sino que el centro de su régimen vital consiste precisamente en la aspiración  a  vivir  sin  supeditarse  a  moral  ninguna. No creáis una palabra cuando oigáis a los jóvenes hablar de la 'nueva moral'. Niego rotundamente que exista hoy en ningún rincón del continente grupo alguno informado por un nuevo ethos que tenga visos de una moral. Cuando se habla de la 'nueva',  no  se  hace  sino  cometer  una  inmoralidad  más  y  buscar  el medio más cómodo para meter contrabando.\n",
      "Por esta razón, fuera una ingenuidad echar en cara al hombre de hoy su falta de moral. La imputación lo traería sin cuidado o, más bien, lo halagaría. El inmoralismo ha llegado a ser de una baratura extrema, y cualquiera alardea de ejercitarlo.\n",
      "Si dejamos a un lado -como se ha hecho en este ensayo- todos los grupos que significan supervivencia\n",
      "====================================================================================================\n"
     ]
    }
   ],
   "source": [
    "for chapter_title, chapter_text in indexer_info.chapter_to_text.items():\n",
    "    print(chapter_title)\n",
    "    print(chapter_text[:1_000])\n",
    "    print(\"=\"*100)"
   ]
  },
  {
   "cell_type": "code",
   "execution_count": null,
   "metadata": {},
   "outputs": [],
   "source": []
  }
 ],
 "metadata": {
  "kernelspec": {
   "display_name": ".venv",
   "language": "python",
   "name": "python3"
  },
  "language_info": {
   "codemirror_mode": {
    "name": "ipython",
    "version": 3
   },
   "file_extension": ".py",
   "mimetype": "text/x-python",
   "name": "python",
   "nbconvert_exporter": "python",
   "pygments_lexer": "ipython3",
   "version": "3.12.0"
  }
 },
 "nbformat": 4,
 "nbformat_minor": 2
}
